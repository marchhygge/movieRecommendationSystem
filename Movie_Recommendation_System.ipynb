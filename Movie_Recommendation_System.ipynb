{
 "cells": [
  {
   "cell_type": "code",
   "execution_count": 23,
   "id": "ee776d5e",
   "metadata": {},
   "outputs": [],
   "source": [
    "import pandas as pd\n",
    "import numpy as np\n",
    "import re # Regular expression module\n",
    "from sklearn.feature_extraction.text import TfidfVectorizer # Vectorizer for text data\n",
    "from sklearn.metrics.pairwise import cosine_similarity # Function to calculate cosine similarity between vectors\n",
    "import ipywidgets as widgets # Widgets for interactive UI in Jupyter Notebooks\n",
    "from IPython.display import display # Function to display widgets in Jupyter Notebooks"
   ]
  },
  {
   "cell_type": "markdown",
   "id": "930a6975",
   "metadata": {},
   "source": [
    "# Build Search engine"
   ]
  },
  {
   "cell_type": "code",
   "execution_count": null,
   "id": "8bfc4320",
   "metadata": {},
   "outputs": [],
   "source": [
    "move_path = f\"D:\\Machine_Learning_course\\Dataset\\movies.csv\"\n",
    "movies = pd.read_csv(move_path)"
   ]
  },
  {
   "cell_type": "code",
   "execution_count": null,
   "id": "ba54ad30",
   "metadata": {},
   "outputs": [],
   "source": [
    "movies"
   ]
  },
  {
   "cell_type": "code",
   "execution_count": null,
   "id": "982df2e0",
   "metadata": {},
   "outputs": [],
   "source": [
    "# Define a function to clean movie titles\n",
    "def clean_title(title):\n",
    "    new_title = re.sub(\"[^a-zA-Z0-9 ]\", \"\", title)  # Remove special characters\n",
    "    return new_title"
   ]
  },
  {
   "cell_type": "code",
   "execution_count": null,
   "id": "d276d54c",
   "metadata": {},
   "outputs": [],
   "source": [
    "# Add new_title column to the DataFrame\n",
    "movies[\"new_title\"] = movies[\"title\"].apply(clean_title)\n",
    "movies"
   ]
  },
  {
   "cell_type": "code",
   "execution_count": null,
   "id": "98fc5fcf",
   "metadata": {},
   "outputs": [],
   "source": [
    "# Create a TF-IDF vectorizer to convert movie titles into vectors\n",
    "vectorizer = TfidfVectorizer(ngram_range=(1, 2))\n",
    "tfidf = vectorizer.fit_transform(movies[\"new_title\"])"
   ]
  },
  {
   "cell_type": "code",
   "execution_count": null,
   "id": "f81bb2f0",
   "metadata": {},
   "outputs": [],
   "source": [
    "# Define a function to search for movies by title\n",
    "def search(title):\n",
    "    title = clean_title(title)\n",
    "    query_vector = vectorizer.transform([title])\n",
    "    similarity = cosine_similarity(query_vector, tfidf).flatten()\n",
    "    indices = np.argpartition(similarity, -5)[-5:]\n",
    "    results = movies.iloc[indices][::-1]\n",
    "    return results\n"
   ]
  },
  {
   "cell_type": "code",
   "execution_count": null,
   "id": "4cfce279",
   "metadata": {},
   "outputs": [],
   "source": [
    "# Create a text input widget for movie title search\n",
    "movie_input = widgets.Text(\n",
    "    value=\"Toy Story 1995\",\n",
    "    description=\"Movie Title:\",\n",
    "    placeholder=\"Enter movie title\",\n",
    "    dísabled=False\n",
    ")\n",
    "movie_list = widgets.Output() # Output widget to display search results\n",
    "\n",
    "# Define a function to handle changes in the text input\n",
    "def on_type(data):\n",
    "    with movie_list:\n",
    "        movie_list.clear_output()\n",
    "        title = data[\"new\"]\n",
    "        if len(title) > 5:\n",
    "            display(search(title))\n",
    "\n",
    "movie_input.observe(on_type, names=\"value\") # Observe changes in the text input\n",
    "\n",
    "display(movie_input, movie_list) # Display the input widget and output widget"
   ]
  },
  {
   "cell_type": "markdown",
   "id": "2edf85ca",
   "metadata": {},
   "source": [
    "# Recommendation model"
   ]
  },
  {
   "cell_type": "code",
   "execution_count": 24,
   "id": "4b4a5991",
   "metadata": {},
   "outputs": [
    {
     "name": "stderr",
     "output_type": "stream",
     "text": [
      "<>:2: SyntaxWarning: invalid escape sequence '\\M'\n",
      "<>:2: SyntaxWarning: invalid escape sequence '\\M'\n",
      "C:\\Users\\hthin\\AppData\\Local\\Temp\\ipykernel_27044\\2534335489.py:2: SyntaxWarning: invalid escape sequence '\\M'\n",
      "  movie_path = f\"D:\\Machine_Learning_course\\Dataset\\movies.csv\"\n"
     ]
    },
    {
     "data": {
      "application/vnd.microsoft.datawrangler.viewer.v0+json": {
       "columns": [
        {
         "name": "index",
         "rawType": "int64",
         "type": "integer"
        },
        {
         "name": "movieId",
         "rawType": "int64",
         "type": "integer"
        },
        {
         "name": "title",
         "rawType": "object",
         "type": "string"
        },
        {
         "name": "genres",
         "rawType": "object",
         "type": "string"
        }
       ],
       "ref": "bad67435-76fa-4f31-b732-20c00a653ac8",
       "rows": [
        [
         "0",
         "1",
         "Toy Story (1995)",
         "Adventure|Animation|Children|Comedy|Fantasy"
        ],
        [
         "1",
         "2",
         "Jumanji (1995)",
         "Adventure|Children|Fantasy"
        ],
        [
         "2",
         "3",
         "Grumpier Old Men (1995)",
         "Comedy|Romance"
        ],
        [
         "3",
         "4",
         "Waiting to Exhale (1995)",
         "Comedy|Drama|Romance"
        ],
        [
         "4",
         "5",
         "Father of the Bride Part II (1995)",
         "Comedy"
        ],
        [
         "5",
         "6",
         "Heat (1995)",
         "Action|Crime|Thriller"
        ],
        [
         "6",
         "7",
         "Sabrina (1995)",
         "Comedy|Romance"
        ],
        [
         "7",
         "8",
         "Tom and Huck (1995)",
         "Adventure|Children"
        ],
        [
         "8",
         "9",
         "Sudden Death (1995)",
         "Action"
        ],
        [
         "9",
         "10",
         "GoldenEye (1995)",
         "Action|Adventure|Thriller"
        ],
        [
         "10",
         "11",
         "American President, The (1995)",
         "Comedy|Drama|Romance"
        ],
        [
         "11",
         "12",
         "Dracula: Dead and Loving It (1995)",
         "Comedy|Horror"
        ],
        [
         "12",
         "13",
         "Balto (1995)",
         "Adventure|Animation|Children"
        ],
        [
         "13",
         "14",
         "Nixon (1995)",
         "Drama"
        ],
        [
         "14",
         "15",
         "Cutthroat Island (1995)",
         "Action|Adventure|Romance"
        ],
        [
         "15",
         "16",
         "Casino (1995)",
         "Crime|Drama"
        ],
        [
         "16",
         "17",
         "Sense and Sensibility (1995)",
         "Drama|Romance"
        ],
        [
         "17",
         "18",
         "Four Rooms (1995)",
         "Comedy"
        ],
        [
         "18",
         "19",
         "Ace Ventura: When Nature Calls (1995)",
         "Comedy"
        ],
        [
         "19",
         "20",
         "Money Train (1995)",
         "Action|Comedy|Crime|Drama|Thriller"
        ],
        [
         "20",
         "21",
         "Get Shorty (1995)",
         "Comedy|Crime|Thriller"
        ],
        [
         "21",
         "22",
         "Copycat (1995)",
         "Crime|Drama|Horror|Mystery|Thriller"
        ],
        [
         "22",
         "23",
         "Assassins (1995)",
         "Action|Crime|Thriller"
        ],
        [
         "23",
         "24",
         "Powder (1995)",
         "Drama|Sci-Fi"
        ],
        [
         "24",
         "25",
         "Leaving Las Vegas (1995)",
         "Drama|Romance"
        ],
        [
         "25",
         "26",
         "Othello (1995)",
         "Drama"
        ],
        [
         "26",
         "27",
         "Now and Then (1995)",
         "Children|Drama"
        ],
        [
         "27",
         "28",
         "Persuasion (1995)",
         "Drama|Romance"
        ],
        [
         "28",
         "29",
         "City of Lost Children, The (Cité des enfants perdus, La) (1995)",
         "Adventure|Drama|Fantasy|Mystery|Sci-Fi"
        ],
        [
         "29",
         "30",
         "Shanghai Triad (Yao a yao yao dao waipo qiao) (1995)",
         "Crime|Drama"
        ],
        [
         "30",
         "31",
         "Dangerous Minds (1995)",
         "Drama"
        ],
        [
         "31",
         "32",
         "Twelve Monkeys (a.k.a. 12 Monkeys) (1995)",
         "Mystery|Sci-Fi|Thriller"
        ],
        [
         "32",
         "33",
         "Wings of Courage (1995)",
         "Adventure|Romance|IMAX"
        ],
        [
         "33",
         "34",
         "Babe (1995)",
         "Children|Drama"
        ],
        [
         "34",
         "35",
         "Carrington (1995)",
         "Drama|Romance"
        ],
        [
         "35",
         "36",
         "Dead Man Walking (1995)",
         "Crime|Drama"
        ],
        [
         "36",
         "37",
         "Across the Sea of Time (1995)",
         "Documentary|IMAX"
        ],
        [
         "37",
         "38",
         "It Takes Two (1995)",
         "Children|Comedy"
        ],
        [
         "38",
         "39",
         "Clueless (1995)",
         "Comedy|Romance"
        ],
        [
         "39",
         "40",
         "Cry, the Beloved Country (1995)",
         "Drama"
        ],
        [
         "40",
         "41",
         "Richard III (1995)",
         "Drama|War"
        ],
        [
         "41",
         "42",
         "Dead Presidents (1995)",
         "Action|Crime|Drama"
        ],
        [
         "42",
         "43",
         "Restoration (1995)",
         "Drama"
        ],
        [
         "43",
         "44",
         "Mortal Kombat (1995)",
         "Action|Adventure|Fantasy"
        ],
        [
         "44",
         "45",
         "To Die For (1995)",
         "Comedy|Drama|Thriller"
        ],
        [
         "45",
         "46",
         "How to Make an American Quilt (1995)",
         "Drama|Romance"
        ],
        [
         "46",
         "47",
         "Seven (a.k.a. Se7en) (1995)",
         "Mystery|Thriller"
        ],
        [
         "47",
         "48",
         "Pocahontas (1995)",
         "Animation|Children|Drama|Musical|Romance"
        ],
        [
         "48",
         "49",
         "When Night Is Falling (1995)",
         "Drama|Romance"
        ],
        [
         "49",
         "50",
         "Usual Suspects, The (1995)",
         "Crime|Mystery|Thriller"
        ]
       ],
       "shape": {
        "columns": 3,
        "rows": 62423
       }
      },
      "text/html": [
       "<div>\n",
       "<style scoped>\n",
       "    .dataframe tbody tr th:only-of-type {\n",
       "        vertical-align: middle;\n",
       "    }\n",
       "\n",
       "    .dataframe tbody tr th {\n",
       "        vertical-align: top;\n",
       "    }\n",
       "\n",
       "    .dataframe thead th {\n",
       "        text-align: right;\n",
       "    }\n",
       "</style>\n",
       "<table border=\"1\" class=\"dataframe\">\n",
       "  <thead>\n",
       "    <tr style=\"text-align: right;\">\n",
       "      <th></th>\n",
       "      <th>movieId</th>\n",
       "      <th>title</th>\n",
       "      <th>genres</th>\n",
       "    </tr>\n",
       "  </thead>\n",
       "  <tbody>\n",
       "    <tr>\n",
       "      <th>0</th>\n",
       "      <td>1</td>\n",
       "      <td>Toy Story (1995)</td>\n",
       "      <td>Adventure|Animation|Children|Comedy|Fantasy</td>\n",
       "    </tr>\n",
       "    <tr>\n",
       "      <th>1</th>\n",
       "      <td>2</td>\n",
       "      <td>Jumanji (1995)</td>\n",
       "      <td>Adventure|Children|Fantasy</td>\n",
       "    </tr>\n",
       "    <tr>\n",
       "      <th>2</th>\n",
       "      <td>3</td>\n",
       "      <td>Grumpier Old Men (1995)</td>\n",
       "      <td>Comedy|Romance</td>\n",
       "    </tr>\n",
       "    <tr>\n",
       "      <th>3</th>\n",
       "      <td>4</td>\n",
       "      <td>Waiting to Exhale (1995)</td>\n",
       "      <td>Comedy|Drama|Romance</td>\n",
       "    </tr>\n",
       "    <tr>\n",
       "      <th>4</th>\n",
       "      <td>5</td>\n",
       "      <td>Father of the Bride Part II (1995)</td>\n",
       "      <td>Comedy</td>\n",
       "    </tr>\n",
       "    <tr>\n",
       "      <th>...</th>\n",
       "      <td>...</td>\n",
       "      <td>...</td>\n",
       "      <td>...</td>\n",
       "    </tr>\n",
       "    <tr>\n",
       "      <th>62418</th>\n",
       "      <td>209157</td>\n",
       "      <td>We (2018)</td>\n",
       "      <td>Drama</td>\n",
       "    </tr>\n",
       "    <tr>\n",
       "      <th>62419</th>\n",
       "      <td>209159</td>\n",
       "      <td>Window of the Soul (2001)</td>\n",
       "      <td>Documentary</td>\n",
       "    </tr>\n",
       "    <tr>\n",
       "      <th>62420</th>\n",
       "      <td>209163</td>\n",
       "      <td>Bad Poems (2018)</td>\n",
       "      <td>Comedy|Drama</td>\n",
       "    </tr>\n",
       "    <tr>\n",
       "      <th>62421</th>\n",
       "      <td>209169</td>\n",
       "      <td>A Girl Thing (2001)</td>\n",
       "      <td>(no genres listed)</td>\n",
       "    </tr>\n",
       "    <tr>\n",
       "      <th>62422</th>\n",
       "      <td>209171</td>\n",
       "      <td>Women of Devil's Island (1962)</td>\n",
       "      <td>Action|Adventure|Drama</td>\n",
       "    </tr>\n",
       "  </tbody>\n",
       "</table>\n",
       "<p>62423 rows × 3 columns</p>\n",
       "</div>"
      ],
      "text/plain": [
       "       movieId                               title  \\\n",
       "0            1                    Toy Story (1995)   \n",
       "1            2                      Jumanji (1995)   \n",
       "2            3             Grumpier Old Men (1995)   \n",
       "3            4            Waiting to Exhale (1995)   \n",
       "4            5  Father of the Bride Part II (1995)   \n",
       "...        ...                                 ...   \n",
       "62418   209157                           We (2018)   \n",
       "62419   209159           Window of the Soul (2001)   \n",
       "62420   209163                    Bad Poems (2018)   \n",
       "62421   209169                 A Girl Thing (2001)   \n",
       "62422   209171      Women of Devil's Island (1962)   \n",
       "\n",
       "                                            genres  \n",
       "0      Adventure|Animation|Children|Comedy|Fantasy  \n",
       "1                       Adventure|Children|Fantasy  \n",
       "2                                   Comedy|Romance  \n",
       "3                             Comedy|Drama|Romance  \n",
       "4                                           Comedy  \n",
       "...                                            ...  \n",
       "62418                                        Drama  \n",
       "62419                                  Documentary  \n",
       "62420                                 Comedy|Drama  \n",
       "62421                           (no genres listed)  \n",
       "62422                       Action|Adventure|Drama  \n",
       "\n",
       "[62423 rows x 3 columns]"
      ]
     },
     "execution_count": 24,
     "metadata": {},
     "output_type": "execute_result"
    }
   ],
   "source": [
    "# Load the movies dataset\n",
    "movie_path = f\"D:\\Machine_Learning_course\\Dataset\\movies.csv\"\n",
    "movies = pd.read_csv(movie_path)\n",
    "movies"
   ]
  },
  {
   "cell_type": "code",
   "execution_count": 25,
   "id": "d0403915",
   "metadata": {},
   "outputs": [
    {
     "data": {
      "application/vnd.microsoft.datawrangler.viewer.v0+json": {
       "columns": [
        {
         "name": "index",
         "rawType": "int64",
         "type": "integer"
        },
        {
         "name": "userId",
         "rawType": "int64",
         "type": "integer"
        },
        {
         "name": "movieId",
         "rawType": "int64",
         "type": "integer"
        },
        {
         "name": "rating",
         "rawType": "float64",
         "type": "float"
        },
        {
         "name": "timestamp",
         "rawType": "int64",
         "type": "integer"
        }
       ],
       "ref": "03753d0d-94b6-429d-b508-3593ac718bf8",
       "rows": [
        [
         "0",
         "1",
         "296",
         "5.0",
         "1147880044"
        ],
        [
         "1",
         "1",
         "306",
         "3.5",
         "1147868817"
        ],
        [
         "2",
         "1",
         "307",
         "5.0",
         "1147868828"
        ],
        [
         "3",
         "1",
         "665",
         "5.0",
         "1147878820"
        ],
        [
         "4",
         "1",
         "899",
         "3.5",
         "1147868510"
        ],
        [
         "5",
         "1",
         "1088",
         "4.0",
         "1147868495"
        ],
        [
         "6",
         "1",
         "1175",
         "3.5",
         "1147868826"
        ],
        [
         "7",
         "1",
         "1217",
         "3.5",
         "1147878326"
        ],
        [
         "8",
         "1",
         "1237",
         "5.0",
         "1147868839"
        ],
        [
         "9",
         "1",
         "1250",
         "4.0",
         "1147868414"
        ],
        [
         "10",
         "1",
         "1260",
         "3.5",
         "1147877857"
        ],
        [
         "11",
         "1",
         "1653",
         "4.0",
         "1147868097"
        ],
        [
         "12",
         "1",
         "2011",
         "2.5",
         "1147868079"
        ],
        [
         "13",
         "1",
         "2012",
         "2.5",
         "1147868068"
        ],
        [
         "14",
         "1",
         "2068",
         "2.5",
         "1147869044"
        ],
        [
         "15",
         "1",
         "2161",
         "3.5",
         "1147868609"
        ],
        [
         "16",
         "1",
         "2351",
         "4.5",
         "1147877957"
        ],
        [
         "17",
         "1",
         "2573",
         "4.0",
         "1147878923"
        ],
        [
         "18",
         "1",
         "2632",
         "5.0",
         "1147878248"
        ],
        [
         "19",
         "1",
         "2692",
         "5.0",
         "1147869100"
        ],
        [
         "20",
         "1",
         "2843",
         "4.5",
         "1147868891"
        ],
        [
         "21",
         "1",
         "3448",
         "4.0",
         "1147868480"
        ],
        [
         "22",
         "1",
         "3569",
         "5.0",
         "1147879603"
        ],
        [
         "23",
         "1",
         "3949",
         "5.0",
         "1147868678"
        ],
        [
         "24",
         "1",
         "4144",
         "5.0",
         "1147868898"
        ],
        [
         "25",
         "1",
         "4308",
         "3.0",
         "1147868534"
        ],
        [
         "26",
         "1",
         "4325",
         "5.0",
         "1147878122"
        ],
        [
         "27",
         "1",
         "4422",
         "3.0",
         "1147869048"
        ],
        [
         "28",
         "1",
         "4703",
         "4.0",
         "1147869223"
        ],
        [
         "29",
         "1",
         "4973",
         "4.5",
         "1147869080"
        ],
        [
         "30",
         "1",
         "5147",
         "4.0",
         "1147877654"
        ],
        [
         "31",
         "1",
         "5269",
         "0.5",
         "1147879571"
        ],
        [
         "32",
         "1",
         "5684",
         "2.0",
         "1147879797"
        ],
        [
         "33",
         "1",
         "5767",
         "5.0",
         "1147878729"
        ],
        [
         "34",
         "1",
         "5878",
         "4.0",
         "1147868807"
        ],
        [
         "35",
         "1",
         "5912",
         "3.0",
         "1147878698"
        ],
        [
         "36",
         "1",
         "5952",
         "4.0",
         "1147868053"
        ],
        [
         "37",
         "1",
         "6016",
         "5.0",
         "1147869090"
        ],
        [
         "38",
         "1",
         "6370",
         "4.5",
         "1147869191"
        ],
        [
         "39",
         "1",
         "6377",
         "4.0",
         "1147868469"
        ],
        [
         "40",
         "1",
         "6539",
         "3.5",
         "1147868461"
        ],
        [
         "41",
         "1",
         "6711",
         "5.0",
         "1147868622"
        ],
        [
         "42",
         "1",
         "6954",
         "3.5",
         "1147869150"
        ],
        [
         "43",
         "1",
         "7209",
         "4.0",
         "1147877986"
        ],
        [
         "44",
         "1",
         "7234",
         "4.5",
         "1147868869"
        ],
        [
         "45",
         "1",
         "7318",
         "2.0",
         "1147879850"
        ],
        [
         "46",
         "1",
         "7323",
         "3.5",
         "1147869119"
        ],
        [
         "47",
         "1",
         "7327",
         "3.5",
         "1147868855"
        ],
        [
         "48",
         "1",
         "7361",
         "5.0",
         "1147880055"
        ],
        [
         "49",
         "1",
         "7365",
         "4.0",
         "1147869033"
        ]
       ],
       "shape": {
        "columns": 4,
        "rows": 25000095
       }
      },
      "text/html": [
       "<div>\n",
       "<style scoped>\n",
       "    .dataframe tbody tr th:only-of-type {\n",
       "        vertical-align: middle;\n",
       "    }\n",
       "\n",
       "    .dataframe tbody tr th {\n",
       "        vertical-align: top;\n",
       "    }\n",
       "\n",
       "    .dataframe thead th {\n",
       "        text-align: right;\n",
       "    }\n",
       "</style>\n",
       "<table border=\"1\" class=\"dataframe\">\n",
       "  <thead>\n",
       "    <tr style=\"text-align: right;\">\n",
       "      <th></th>\n",
       "      <th>userId</th>\n",
       "      <th>movieId</th>\n",
       "      <th>rating</th>\n",
       "      <th>timestamp</th>\n",
       "    </tr>\n",
       "  </thead>\n",
       "  <tbody>\n",
       "    <tr>\n",
       "      <th>0</th>\n",
       "      <td>1</td>\n",
       "      <td>296</td>\n",
       "      <td>5.0</td>\n",
       "      <td>1147880044</td>\n",
       "    </tr>\n",
       "    <tr>\n",
       "      <th>1</th>\n",
       "      <td>1</td>\n",
       "      <td>306</td>\n",
       "      <td>3.5</td>\n",
       "      <td>1147868817</td>\n",
       "    </tr>\n",
       "    <tr>\n",
       "      <th>2</th>\n",
       "      <td>1</td>\n",
       "      <td>307</td>\n",
       "      <td>5.0</td>\n",
       "      <td>1147868828</td>\n",
       "    </tr>\n",
       "    <tr>\n",
       "      <th>3</th>\n",
       "      <td>1</td>\n",
       "      <td>665</td>\n",
       "      <td>5.0</td>\n",
       "      <td>1147878820</td>\n",
       "    </tr>\n",
       "    <tr>\n",
       "      <th>4</th>\n",
       "      <td>1</td>\n",
       "      <td>899</td>\n",
       "      <td>3.5</td>\n",
       "      <td>1147868510</td>\n",
       "    </tr>\n",
       "    <tr>\n",
       "      <th>...</th>\n",
       "      <td>...</td>\n",
       "      <td>...</td>\n",
       "      <td>...</td>\n",
       "      <td>...</td>\n",
       "    </tr>\n",
       "    <tr>\n",
       "      <th>25000090</th>\n",
       "      <td>162541</td>\n",
       "      <td>50872</td>\n",
       "      <td>4.5</td>\n",
       "      <td>1240953372</td>\n",
       "    </tr>\n",
       "    <tr>\n",
       "      <th>25000091</th>\n",
       "      <td>162541</td>\n",
       "      <td>55768</td>\n",
       "      <td>2.5</td>\n",
       "      <td>1240951998</td>\n",
       "    </tr>\n",
       "    <tr>\n",
       "      <th>25000092</th>\n",
       "      <td>162541</td>\n",
       "      <td>56176</td>\n",
       "      <td>2.0</td>\n",
       "      <td>1240950697</td>\n",
       "    </tr>\n",
       "    <tr>\n",
       "      <th>25000093</th>\n",
       "      <td>162541</td>\n",
       "      <td>58559</td>\n",
       "      <td>4.0</td>\n",
       "      <td>1240953434</td>\n",
       "    </tr>\n",
       "    <tr>\n",
       "      <th>25000094</th>\n",
       "      <td>162541</td>\n",
       "      <td>63876</td>\n",
       "      <td>5.0</td>\n",
       "      <td>1240952515</td>\n",
       "    </tr>\n",
       "  </tbody>\n",
       "</table>\n",
       "<p>25000095 rows × 4 columns</p>\n",
       "</div>"
      ],
      "text/plain": [
       "          userId  movieId  rating   timestamp\n",
       "0              1      296     5.0  1147880044\n",
       "1              1      306     3.5  1147868817\n",
       "2              1      307     5.0  1147868828\n",
       "3              1      665     5.0  1147878820\n",
       "4              1      899     3.5  1147868510\n",
       "...          ...      ...     ...         ...\n",
       "25000090  162541    50872     4.5  1240953372\n",
       "25000091  162541    55768     2.5  1240951998\n",
       "25000092  162541    56176     2.0  1240950697\n",
       "25000093  162541    58559     4.0  1240953434\n",
       "25000094  162541    63876     5.0  1240952515\n",
       "\n",
       "[25000095 rows x 4 columns]"
      ]
     },
     "execution_count": 25,
     "metadata": {},
     "output_type": "execute_result"
    }
   ],
   "source": [
    "# Load ratings data\n",
    "rating_path = r\"D:\\Machine_Learning_course\\Dataset\\ratings.csv\"\n",
    "ratings = pd.read_csv(rating_path)\n",
    "ratings\n"
   ]
  },
  {
   "cell_type": "code",
   "execution_count": 27,
   "id": "aea85fd4",
   "metadata": {},
   "outputs": [
    {
     "name": "stdout",
     "output_type": "stream",
     "text": [
      "Number of unique users: 162541\n",
      "Number of unique movies: 62423\n"
     ]
    }
   ],
   "source": [
    "n_user = len(ratings[\"userId\"].unique()) # Count of unique users\n",
    "n_movie = len(movies[\"movieId\"].unique()) # Count of unique movies\n",
    "\n",
    "print(\"Number of unique users:\", n_user)\n",
    "print(\"Number of unique movies:\", n_movie)"
   ]
  },
  {
   "cell_type": "code",
   "execution_count": null,
   "id": "7adde523",
   "metadata": {},
   "outputs": [],
   "source": [
    "# Find users who rated a specific movie with a rating of 5 or higher\n",
    "movie_id = 1\n",
    "similar_user = ratings[(ratings[\"movieId\"] == movie_id) & (ratings[\"rating\"] > 4.0)]\\\n",
    "               [\"userId\"].unique()\n",
    "similar_user"
   ]
  },
  {
   "cell_type": "code",
   "execution_count": null,
   "id": "eaa605a4",
   "metadata": {},
   "outputs": [],
   "source": [
    "len(similar_user) # Count of users who rated the movie with a rating of 5 or higher"
   ]
  },
  {
   "cell_type": "code",
   "execution_count": null,
   "id": "f0705272",
   "metadata": {},
   "outputs": [],
   "source": [
    "# Get recommendations for movies rated by similar users with a rating greater than 4\n",
    "similar_user_recs = ratings[(ratings[\"userId\"].isin(similar_user)) \\\n",
    "                            & (ratings[\"rating\"] > 4)] \\\n",
    "                            [\"movieId\"]"
   ]
  },
  {
   "cell_type": "code",
   "execution_count": null,
   "id": "210a341a",
   "metadata": {},
   "outputs": [],
   "source": [
    "similar_user_recs.value_counts()"
   ]
  },
  {
   "cell_type": "code",
   "execution_count": null,
   "id": "009b8a4f",
   "metadata": {},
   "outputs": [],
   "source": [
    "# Normalize the recommendations by dividing by the total number of similar users\n",
    "similar_user_recs = similar_user_recs.value_counts() / len(similar_user)\n",
    "similar_user_recs = similar_user_recs[similar_user_recs > .1]\n",
    "similar_user_recs"
   ]
  },
  {
   "cell_type": "code",
   "execution_count": null,
   "id": "f821a981",
   "metadata": {},
   "outputs": [],
   "source": [
    "# Find users who rated a specific movie with a rating of 5 or higher\n",
    "all_users = ratings[(ratings[\"movieId\"].isin(similar_user_recs.index))\\\n",
    "                     & (ratings[\"rating\"] > 4)]\n",
    "all_users\n"
   ]
  },
  {
   "cell_type": "code",
   "execution_count": null,
   "id": "8e7ec1a0",
   "metadata": {},
   "outputs": [],
   "source": [
    "all_users[\"movieId\"].value_counts()"
   ]
  },
  {
   "cell_type": "code",
   "execution_count": null,
   "id": "0e4b01ce",
   "metadata": {},
   "outputs": [],
   "source": [
    "# Calculate the average number of recommendations per user\n",
    "all_users_recs = all_users[\"movieId\"].value_counts() / len(all_users[\"userId\"].unique())\n",
    "all_users_recs"
   ]
  },
  {
   "cell_type": "code",
   "execution_count": null,
   "id": "ac26930a",
   "metadata": {},
   "outputs": [],
   "source": [
    "# Calculate the percentage of recommendations for similar users and all users\n",
    "rec_percentage = pd.concat([similar_user_recs, all_users_recs], axis=1)\n",
    "rec_percentage.columns = [\"similar\",\"all\"]\n",
    "rec_percentage"
   ]
  },
  {
   "cell_type": "code",
   "execution_count": null,
   "id": "50866a1a",
   "metadata": {},
   "outputs": [],
   "source": [
    "# score giúp bạn biết phim nào đặc biệt phù hợp với nhóm user giống bạn, để ưu tiên gợi ý.\n",
    "# similar tìm ra những người user tương tự bạn đang thích phim nào\n",
    "# all tìm ra trong những bộ phim đang thích của nhóm similar thì có bao nhiêu người cũng thích\n",
    "# score trả lời cho câu hỏi \n",
    "# \"Phim nào đặc biệt phù hợp với nhóm user có sở thích giống bạn hơn so với toàn bộ user?\"\n",
    "rec_percentage[\"score\"] = rec_percentage[\"similar\"] / rec_percentage[\"all\"]"
   ]
  },
  {
   "cell_type": "code",
   "execution_count": null,
   "id": "54d0b3c1",
   "metadata": {},
   "outputs": [],
   "source": [
    "rec_percentage = rec_percentage.sort_values(\"score\", ascending=False)\n",
    "rec_percentage"
   ]
  },
  {
   "cell_type": "code",
   "execution_count": null,
   "id": "f880ea4f",
   "metadata": {},
   "outputs": [],
   "source": [
    "rec_percentage.head(10).merge(movies, left_index=True, right_on=\"movieId\")"
   ]
  },
  {
   "cell_type": "code",
   "execution_count": null,
   "id": "94d1ca8b",
   "metadata": {},
   "outputs": [],
   "source": [
    "def get_recommendations(movie_id):\n",
    "    similar_user = ratings[(ratings[\"movieId\"] == movie_id) & (ratings[\"rating\"] > 4.0)][\"userId\"].unique()\n",
    "    similar_user_recs = ratings[(ratings[\"userId\"].isin(similar_user)) & (ratings[\"rating\"] > 4)][\"movieId\"]\n",
    "    \n",
    "    similar_user_recs = similar_user_recs.value_counts() / len(similar_user)\n",
    "    similar_user_recs = similar_user_recs[similar_user_recs > .1]\n",
    "    \n",
    "    all_users = ratings[(ratings[\"movieId\"].isin(similar_user_recs.index)) & (ratings[\"rating\"] > 4)]\n",
    "    all_users_recs = all_users[\"movieId\"].value_counts() / len(all_users[\"userId\"].unique())\n",
    "    \n",
    "    rec_percentage = pd.concat([similar_user_recs, all_users_recs], axis=1)\n",
    "    rec_percentage.columns = [\"similar\",\"all\"]\n",
    "    rec_percentage[\"score\"] = rec_percentage[\"similar\"] / rec_percentage[\"all\"]\n",
    "    \n",
    "    rec_percentage = rec_percentage.sort_values(\"score\", ascending=False)\n",
    "    rec_percentage = rec_percentage.head(10).merge(movies, left_index=True, right_on=\"movieId\")[[\"score\", \"title\", \"genres\"]]\n",
    "    \n",
    "    return rec_percentage"
   ]
  },
  {
   "cell_type": "code",
   "execution_count": null,
   "id": "604ae5df",
   "metadata": {},
   "outputs": [],
   "source": [
    "# Create a TF-IDF vectorizer to convert movie titles into vectors\n",
    "vectorizer = TfidfVectorizer(ngram_range=(1, 2))\n",
    "tfidf = vectorizer.fit_transform(movies[\"new_title\"])"
   ]
  },
  {
   "cell_type": "code",
   "execution_count": null,
   "id": "d2c972a7",
   "metadata": {},
   "outputs": [],
   "source": [
    "# Define a function to search for movies by title\n",
    "def search(title):\n",
    "    title = clean_title(title)\n",
    "    query_vector = vectorizer.transform([title])\n",
    "    similarity = cosine_similarity(query_vector, tfidf).flatten()\n",
    "    indices = np.argpartition(similarity, -5)[-5:]\n",
    "    results = movies.iloc[indices][::-1]\n",
    "    return results"
   ]
  },
  {
   "cell_type": "code",
   "execution_count": null,
   "id": "87e28192",
   "metadata": {},
   "outputs": [],
   "source": [
    "movie_input_name = widgets.Text(\n",
    "    value=\"Toy Story\",\n",
    "    description=\"Movie Title:\",\n",
    "    placeholder=\"Enter movie title\",\n",
    "    disabled=False\n",
    ")\n",
    "\n",
    "recommendation_lists = widgets.Output()\n",
    "\n",
    "def on_type(data):\n",
    "    with recommendation_lists:\n",
    "        recommendation_lists.clear_output()\n",
    "        title = data[\"new\"]\n",
    "        if len(title) > 5:\n",
    "            results = search(title)\n",
    "            movie_id = results.iloc[0][\"movieId\"]\n",
    "            display(get_recommendations(movie_id))\n",
    "\n",
    "movie_input_name.observe(on_type, names=\"value\")\n",
    "\n",
    "display(movie_input_name, recommendation_lists) # Display the input widget and output widget"
   ]
  }
 ],
 "metadata": {
  "kernelspec": {
   "display_name": "Python 3",
   "language": "python",
   "name": "python3"
  },
  "language_info": {
   "codemirror_mode": {
    "name": "ipython",
    "version": 3
   },
   "file_extension": ".py",
   "mimetype": "text/x-python",
   "name": "python",
   "nbconvert_exporter": "python",
   "pygments_lexer": "ipython3",
   "version": "3.12.3"
  }
 },
 "nbformat": 4,
 "nbformat_minor": 5
}
